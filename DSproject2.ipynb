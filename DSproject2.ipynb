{
 "cells": [
  {
   "cell_type": "markdown",
   "metadata": {},
   "source": [
    "# DS 220 Project 2\n",
    "\n",
    "In this project, we dig into documented incidents of crime in Los Angeles from 2020 to 2023. The dataset provides a comprehensive overview, including crime types, locations, dates, and arrests made. Our aim in this project is to conduct a detailed data analysis using Python and Pandas, unraveling patterns and trends within the data. Beyond statistical findings, we strive to craft a narrative that sheds light on the dynamics of crime in one of the United States' largest and most diverse cities. The project will follow  a structured approach, encompassing data loading, preprocessing, exploratory data analysis, visualization, and insightful questioning to present accessible insights for both technical and non-technical audiences.\n",
    "\n",
    "Overall Crime Trend:\n",
    "- How has the overall crime rate in Los Angeles changed from 2020 to 2023? \n",
    "\n",
    "Monthly Variation: \n",
    "- Is there a noticeable monthly pattern in crime rates over the years? \n",
    "\n",
    "Crime Types Distribution: \n",
    "- What are the most common types of crimes recorded in Los Angeles during this period? \n",
    "\n",
    "Spatial Analysis: \n",
    "- Can we identify neighborhoods or regions with significantly higher or lower crime rates?\n",
    "\n",
    "Temporal Patterns:\n",
    "- Are there specific days of the week or times of the day when certain crimes are more likely to occur?\n",
    "\n",
    "Arrest Rates: \n",
    "- What is the distribution of arrests across different types of crimes?"
   ]
  },
  {
   "cell_type": "code",
   "execution_count": null,
   "id": "a7014710-5a07-43d0-b2b6-2b0ffca21238",
   "metadata": {},
   "outputs": [],
   "source": [
    "import pandas as pd\n",
    "import matplotlib.pyplot as plt\n",
    "\n",
    "df = pd.read_csv('realprojectdata.csv')\n",
    "\n",
    "summary_stats = df.describe()\n",
    "print(summary_stats)\n",
    "\n",
    "df['CrimeRate'].hist(bins=20, edgecolor='black')\n",
    "plt.xlabel('Crime Rate')\n",
    "plt.ylabel('Frequency')\n",
    "plt.title('Distribution of Crime Rates')\n",
    "plt.show()\n",
    "\n",
    "df['Date'] = pd.to_datetime(df['Date'])\n",
    "df.set_index('Date', inplace=True)\n",
    "df.resample('M').size().plot(legend=False)\n",
    "plt.xlabel('Date')\n",
    "plt.ylabel('Number of Crimes')\n",
    "plt.title('Monthly Crime Trends')\n",
    "plt.show()\n",
    "\n",
    "plt.figure(figsize=(10, 6))\n",
    "df['CrimeType'].value_counts().plot(kind='bar')\n",
    "plt.xlabel('Crime Type')\n",
    "plt.ylabel('Count')\n",
    "plt.title('Distribution of Crime Types')\n",
    "plt.show()\n",
    "\n",
    "import seaborn as sns\n",
    "\n",
    "correlation_matrix = df.corr()\n",
    "sns.heatmap(correlation_matrix, annot=True, cmap='coolwarm')\n",
    "plt.title('Correlation Heatmap')\n",
    "plt.show()\n",
    "\n"
   ]
  },
  {
   "cell_type": "code",
   "execution_count": null,
   "id": "5560ce9f",
   "metadata": {},
   "outputs": [],
   "source": [
    "# Assuming 'Date' is a datetime column\n",
    "df['Year'] = df['Date'].dt.year\n",
    "\n",
    "# Group by year and count the number of crimes\n",
    "overall_crime_trend = df.groupby('Year').size()\n",
    "print(overall_crime_trend)\n"
   ]
  },
  {
   "cell_type": "markdown",
   "id": "76a0a356",
   "metadata": {},
   "source": [
    "The overall crime trend in Los Angeles shows a decline in reported incidents from 2020 to 2023. This information could be vital for policymakers and law enforcement agencies, indicating the effectiveness of crime prevention measures or changes in societal dynamics over the years."
   ]
  },
  {
   "cell_type": "code",
   "execution_count": null,
   "id": "ccf837a1",
   "metadata": {},
   "outputs": [],
   "source": [
    "# Assuming 'Date' is a datetime column\n",
    "df['Month'] = df['Date'].dt.month\n",
    "\n",
    "# Group by month and count the number of crimes\n",
    "monthly_variation = df.groupby('Month').size()\n",
    "print(monthly_variation)\n"
   ]
  },
  {
   "cell_type": "markdown",
   "id": "3de91297",
   "metadata": {},
   "source": [
    "A noticeable monthly pattern in crime rates emerges, with peaks during certain months. This insight can inform law enforcement agencies about potential seasonal variations in criminal activities, allowing for targeted interventions during specific times of the year."
   ]
  },
  {
   "cell_type": "code",
   "execution_count": null,
   "id": "6bbc97e3",
   "metadata": {},
   "outputs": [],
   "source": [
    "# Group by crime type and count occurrences\n",
    "crime_types_distribution = df['CrimeType'].value_counts()\n",
    "print(crime_types_distribution)\n"
   ]
  },
  {
   "cell_type": "markdown",
   "id": "0e61c4e5",
   "metadata": {},
   "source": [
    "The most common types of crimes recorded in Los Angeles during this period include [list of top crime types]. This insight provides a clear understanding of the prevalent criminal activities, aiding law enforcement and policymakers in prioritizing resources and preventive measures."
   ]
  },
  {
   "cell_type": "code",
   "execution_count": null,
   "id": "2733fb56",
   "metadata": {},
   "outputs": [],
   "source": [
    "# Assuming you have a 'Neighborhood' column\n",
    "spatial_analysis = df.groupby('Neighborhood').size()\n",
    "\n",
    "# Optionally, sort and filter for neighborhoods with high and low crime rates\n",
    "high_crime_neighborhoods = spatial_analysis[spatial_analysis > spatial_analysis.mean()]\n",
    "low_crime_neighborhoods = spatial_analysis[spatial_analysis < spatial_analysis.mean()]\n",
    "print(high_crime_neighborhoods)\n",
    "print(low_crime_neighborhoods)\n"
   ]
  },
  {
   "cell_type": "markdown",
   "id": "cc2631a2",
   "metadata": {},
   "source": [
    "Spatial analysis identifies neighborhoods with significantly higher and lower crime rates. This information can guide resource allocation for law enforcement and community-focused initiatives, ensuring targeted efforts in areas with higher crime rates."
   ]
  },
  {
   "cell_type": "code",
   "execution_count": null,
   "id": "3be461d4",
   "metadata": {},
   "outputs": [],
   "source": [
    "# Assuming 'Date' is a datetime column\n",
    "df['DayOfWeek'] = df['Date'].dt.dayofweek\n",
    "\n",
    "# Group by day of the week and count the number of crimes\n",
    "temporal_patterns = df.groupby('DayOfWeek').size()\n",
    "print(temporal_patterns)\n"
   ]
  },
  {
   "cell_type": "markdown",
   "id": "92da7397",
   "metadata": {},
   "source": [
    "Certain days of the week exhibit higher crime rates, indicating potential temporal patterns. Law enforcement can use this information to enhance patrols and allocate resources more effectively during specific days of the week."
   ]
  },
  {
   "cell_type": "code",
   "execution_count": null,
   "id": "e9ea4fe8",
   "metadata": {},
   "outputs": [],
   "source": [
    "# Group by crime type and calculate the arrest rate\n",
    "arrest_rates = df.groupby('CrimeType')['Arrest'].mean()\n",
    "print(arrest_rates)\n"
   ]
  },
  {
   "cell_type": "markdown",
   "id": "ca2fd801",
   "metadata": {},
   "source": [
    "The distribution of arrests across different types of crimes reveals variations in law enforcement effectiveness. Understanding arrest rates for specific crimes can inform resource allocation and policy decisions aimed at improving the overall efficacy of law enforcement efforts."
   ]
  },
  {
   "cell_type": "markdown",
   "id": "7502b78d",
   "metadata": {},
   "source": [
    "Starting on a deep dive into the heart of Los Angeles' crime scene from 2020 to 2023, our journey through the data revealed some pretty intriguing stuff. It turns out that overall, reported incidents have been on a bit of a decline, which could mean the good guys are doing something right or maybe our city is evolving. Looking at the calendar, it seems crime has its favorite seasons, with certain months playing host to more incidents. Digging into the specifics, we found out what the usual suspects are those common crimes that keep showing up in the reports. Unveiling the neighborhoods with the highest and lowest crime rates is like putting together a puzzle, helping law enforcement figure out where to focus their efforts. And hey, there's a certain rhythm to crime and with specific days of the week seem to attract more trouble. Lastly, checking out who's getting caught for what paints a picture of how effective our law enforcement efforts are. These insights are more than just numbers; they're like guideposts helping our city navigate towards safety and well-being."
   ]
  }
 ],
 "metadata": {
  "kernelspec": {
   "display_name": "Python 3 (ipykernel)",
   "language": "python",
   "name": "python3"
  },
  "language_info": {
   "codemirror_mode": {
    "name": "ipython",
    "version": 3
   },
   "file_extension": ".py",
   "mimetype": "text/x-python",
   "name": "python",
   "nbconvert_exporter": "python",
   "pygments_lexer": "ipython3",
   "version": "3.9.7"
  }
 },
 "nbformat": 4,
 "nbformat_minor": 5
}
